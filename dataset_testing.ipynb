{
 "cells": [
  {
   "cell_type": "code",
   "execution_count": 13,
   "metadata": {},
   "outputs": [],
   "source": [
    "# For testing the input datasets\n",
    "\n",
    "import numpy as np\n",
    "from sklearn import datasets"
   ]
  },
  {
   "cell_type": "code",
   "execution_count": 14,
   "metadata": {},
   "outputs": [],
   "source": [
    "X, y = datasets.make_regression(\n",
    "        n_samples=100, n_features=1, noise=20, random_state=4\n",
    "    )"
   ]
  },
  {
   "cell_type": "code",
   "execution_count": 15,
   "metadata": {},
   "outputs": [
    {
     "name": "stdout",
     "output_type": "stream",
     "text": [
      "(100, 1)\n",
      "(100,)\n"
     ]
    }
   ],
   "source": [
    "print(X.shape)\n",
    "print(y.shape)"
   ]
  },
  {
   "cell_type": "code",
   "execution_count": 20,
   "metadata": {},
   "outputs": [
    {
     "name": "stdout",
     "output_type": "stream",
     "text": [
      "[[-1.3474603 ]\n",
      " [ 0.3523434 ]\n",
      " [ 0.9546986 ]\n",
      " [ 0.03592805]\n",
      " [ 0.04800625]]\n"
     ]
    }
   ],
   "source": [
    "print(X[:5])"
   ]
  },
  {
   "cell_type": "code",
   "execution_count": 17,
   "metadata": {},
   "outputs": [
    {
     "name": "stdout",
     "output_type": "stream",
     "text": [
      "100,1\n"
     ]
    }
   ],
   "source": [
    "samples, features = X.shape\n",
    "print(f\"{samples},{features}\")"
   ]
  },
  {
   "cell_type": "code",
   "execution_count": 25,
   "metadata": {},
   "outputs": [
    {
     "name": "stdout",
     "output_type": "stream",
     "text": [
      "[1.]\n"
     ]
    }
   ],
   "source": [
    "weights = np.ones(features)\n",
    "print(weights)"
   ]
  },
  {
   "cell_type": "code",
   "execution_count": 21,
   "metadata": {},
   "outputs": [],
   "source": [
    "y = X[:5]"
   ]
  },
  {
   "cell_type": "code",
   "execution_count": 26,
   "metadata": {},
   "outputs": [
    {
     "name": "stdout",
     "output_type": "stream",
     "text": [
      "[-1.3474603   0.3523434   0.9546986   0.03592805  0.04800625  0.04860301\n",
      "  0.72334161  0.80208661 -1.14379857  0.17941071 -0.64770677 -1.11281215\n",
      " -1.58457724 -0.08798693  2.47658416 -0.7322647   1.54697933 -0.13070464\n",
      "  0.30044554 -0.9443686  -0.30296397 -0.37444492 -1.15681626  0.59857517\n",
      " -2.37977527 -0.60768369  0.54245131  2.02240507  0.04613557  0.52324766\n",
      "  0.29714121 -1.54292905  1.69235772  0.20931349 -0.41830152  0.87084178\n",
      " -1.14747663 -0.17521053 -0.9617768   0.1886462   1.20200259  1.99008302\n",
      " -1.36096559 -0.05455871  1.16418756 -1.45553433  0.01908996 -0.77873992\n",
      "  0.03754749 -0.34610187 -0.65122583  0.15846954 -1.20894816 -0.64764453\n",
      "  0.91484096 -1.84087587  0.49995133  1.27181862  0.69359851  0.55618522\n",
      "  0.4250724  -1.09712188 -0.5648753   0.35099715  0.83783635  0.05443274\n",
      " -0.0093601  -2.35807363 -0.98299165  0.93465006  0.79523395  0.50991978\n",
      " -0.17146461  0.15989294  2.22336022  0.33225315  0.05056171 -0.52819607\n",
      "  0.43027133  1.63574754  0.78660228 -0.60688728  0.39429521  0.7965119\n",
      " -1.07529009 -0.19674528  0.8365287  -0.49581852  1.3799201   0.067471\n",
      " -0.99590893 -0.90543814 -0.27620335  0.24266016  0.50977885  0.33225003\n",
      " -1.10558404  2.08787087  0.28086468  0.61866969]\n",
      "(100,)\n"
     ]
    }
   ],
   "source": [
    "z = np.dot(X,weights)\n",
    "print(z)\n",
    "print(z.shape)"
   ]
  },
  {
   "cell_type": "code",
   "execution_count": 38,
   "metadata": {},
   "outputs": [
    {
     "name": "stdout",
     "output_type": "stream",
     "text": [
      "(3, 2)\n",
      "[[1 2]\n",
      " [3 4]\n",
      " [5 6]]\n"
     ]
    }
   ],
   "source": [
    "n = np.array([[1,2],[3,4],[5,6]])\n",
    "print(n.shape)\n",
    "print(n)"
   ]
  },
  {
   "cell_type": "code",
   "execution_count": 43,
   "metadata": {},
   "outputs": [
    {
     "name": "stdout",
     "output_type": "stream",
     "text": [
      "(2,)\n",
      "[1. 1.]\n"
     ]
    }
   ],
   "source": [
    "weights2 = np.ones(2)\n",
    "print(weights2.shape)\n",
    "print(weights2)"
   ]
  },
  {
   "cell_type": "code",
   "execution_count": 42,
   "metadata": {},
   "outputs": [
    {
     "name": "stdout",
     "output_type": "stream",
     "text": [
      "(3,)\n",
      "[ 3.  7. 11.]\n"
     ]
    }
   ],
   "source": [
    "m = np.dot(n,weights2)\n",
    "print(m.shape)\n",
    "print(m)"
   ]
  }
 ],
 "metadata": {
  "kernelspec": {
   "display_name": "mlenv",
   "language": "python",
   "name": "python3"
  },
  "language_info": {
   "codemirror_mode": {
    "name": "ipython",
    "version": 3
   },
   "file_extension": ".py",
   "mimetype": "text/x-python",
   "name": "python",
   "nbconvert_exporter": "python",
   "pygments_lexer": "ipython3",
   "version": "3.11.0"
  }
 },
 "nbformat": 4,
 "nbformat_minor": 2
}

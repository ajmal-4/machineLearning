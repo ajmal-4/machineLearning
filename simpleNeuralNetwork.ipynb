{
 "cells": [
  {
   "cell_type": "code",
   "execution_count": 58,
   "metadata": {},
   "outputs": [],
   "source": [
    "import numpy as np\n",
    "import pandas as pd\n",
    "from matplotlib import pyplot as plt"
   ]
  },
  {
   "cell_type": "code",
   "execution_count": 59,
   "metadata": {},
   "outputs": [],
   "source": [
    "# Reading the csv data - MNIST data\n",
    "data = pd.read_csv('digit_recogniser/train.csv')"
   ]
  },
  {
   "cell_type": "code",
   "execution_count": 60,
   "metadata": {},
   "outputs": [],
   "source": [
    "# Convert the data into a numpy array\n",
    "data = np.array(data)\n",
    "m, n = data.shape\n",
    "# Shuffle before splitting into dev and training sets\n",
    "np.random.shuffle(data)"
   ]
  },
  {
   "cell_type": "code",
   "execution_count": 61,
   "metadata": {},
   "outputs": [],
   "source": [
    "# Preparing the training and testing data\n",
    "\n",
    "data_dev = data[0:1000].T\n",
    "Y_dev = data_dev[0]\n",
    "X_dev = data_dev[1:n]\n",
    "X_dev = X_dev / 255.\n",
    "\n",
    "data_train = data[1000:m].T\n",
    "Y_train = data_train[0]\n",
    "X_train = data_train[1:n]\n",
    "X_train = X_train / 255.\n",
    "_,m_train = X_train.shape"
   ]
  },
  {
   "cell_type": "code",
   "execution_count": 62,
   "metadata": {},
   "outputs": [],
   "source": [
    "# Initialising parameters\n",
    "def init_params():\n",
    "    W1 = np.random.rand(10,784) - 0.5\n",
    "    b1 = np.random.rand(10, 1) - 0.5\n",
    "    W2 = np.random.rand(10, 10) - 0.5\n",
    "    b2 = np.random.rand(10, 1) - 0.5\n",
    "    return W1, b1, W2, b2\n",
    "\n",
    "# Activation Function Relu for first hidden layer\n",
    "def ReLU(Z):\n",
    "    return np.maximum(Z, 0)\n",
    "\n",
    "# Softmax activation function for the output layer\n",
    "def softmax(Z):\n",
    "    A = np.exp(Z) / sum(np.exp(Z))\n",
    "    return A\n",
    "\n",
    "# Forward Propagation\n",
    "def forward_prop(W1, b1, W2, b2, X):\n",
    "    Z1 = np.dot(W1, X) + b1\n",
    "    A1 = ReLU(Z1)\n",
    "    Z2 = np.dot(W2, A1) + b2\n",
    "    A2 = softmax(Z2)\n",
    "    return Z1, A1, Z2, A2\n",
    "\n",
    "# derivative of Relu activation function\n",
    "def ReLU_deriv(Z):\n",
    "    return Z > 0\n",
    "\n",
    "# One hot encoding of labels\n",
    "def one_hot(Y):\n",
    "    one_hot_Y = np.zeros((Y.size, Y.max() + 1))\n",
    "    one_hot_Y[np.arange(Y.size), Y] = 1\n",
    "    one_hot_Y = one_hot_Y.T\n",
    "    return one_hot_Y\n",
    "\n",
    "# Backward Propagation\n",
    "def backward_prop(Z1, A1, Z2, A2, W1, W2, X, Y):\n",
    "    one_hot_Y = one_hot(Y)\n",
    "    dZ2 = A2 - one_hot_Y\n",
    "    dW2 = 1 / m * np.dot(dZ2, A1.T)\n",
    "    db2 = 1 / m * np.sum(dZ2)\n",
    "    dZ1 = np.dot(W2.T, dZ2) * ReLU_deriv(Z1)\n",
    "    dW1 = 1 / m * np.dot(dZ1, X.T)\n",
    "    db1 = 1 / m * np.sum(dZ1)\n",
    "    return dW1, db1, dW2, db2\n",
    "\n",
    "# Updating the parameters\n",
    "def update_params(W1, b1, W2, b2, dW1, db1, dW2, db2, alpha):\n",
    "    W1 = W1 - alpha * dW1\n",
    "    b1 = b1 - alpha * db1    \n",
    "    W2 = W2 - alpha * dW2  \n",
    "    b2 = b2 - alpha * db2    \n",
    "    return W1, b1, W2, b2\n"
   ]
  },
  {
   "cell_type": "code",
   "execution_count": 63,
   "metadata": {},
   "outputs": [],
   "source": [
    "def get_predictions(A2):\n",
    "    return np.argmax(A2, 0)\n",
    "\n",
    "def get_accuracy(predictions, Y):\n",
    "    print(predictions, Y)\n",
    "    return np.sum(predictions == Y) / Y.size\n",
    "\n",
    "def gradient_descent(X, Y, alpha, iterations):\n",
    "    W1, b1, W2, b2 = init_params()\n",
    "    for i in range(iterations):\n",
    "        Z1, A1, Z2, A2 = forward_prop(W1, b1, W2, b2, X)\n",
    "        dW1, db1, dW2, db2 = backward_prop(Z1, A1, Z2, A2, W1, W2, X, Y)\n",
    "        W1, b1, W2, b2 = update_params(W1, b1, W2, b2, dW1, db1, dW2, db2, alpha)\n",
    "        if i % 10 == 0:\n",
    "            print(\"Iteration: \", i)\n",
    "            predictions = get_predictions(A2)\n",
    "            print(get_accuracy(predictions, Y))\n",
    "    return W1, b1, W2, b2\n"
   ]
  },
  {
   "cell_type": "code",
   "execution_count": 64,
   "metadata": {},
   "outputs": [
    {
     "name": "stdout",
     "output_type": "stream",
     "text": [
      "Iteration:  0\n",
      "[6 0 6 ... 9 2 0] [7 6 3 ... 6 7 0]\n",
      "0.11031707317073171\n",
      "Iteration:  10\n",
      "[4 0 6 ... 9 2 0] [7 6 3 ... 6 7 0]\n",
      "0.19373170731707318\n",
      "Iteration:  20\n",
      "[4 0 8 ... 9 2 0] [7 6 3 ... 6 7 0]\n",
      "0.26707317073170733\n",
      "Iteration:  30\n",
      "[4 9 8 ... 9 2 0] [7 6 3 ... 6 7 0]\n",
      "0.32153658536585367\n",
      "Iteration:  40\n",
      "[7 6 8 ... 6 3 0] [7 6 3 ... 6 7 0]\n",
      "0.36385365853658536\n",
      "Iteration:  50\n",
      "[7 6 8 ... 6 3 0] [7 6 3 ... 6 7 0]\n",
      "0.4146341463414634\n",
      "Iteration:  60\n",
      "[7 6 8 ... 6 3 0] [7 6 3 ... 6 7 0]\n",
      "0.4684878048780488\n",
      "Iteration:  70\n",
      "[7 6 8 ... 6 3 0] [7 6 3 ... 6 7 0]\n",
      "0.5141951219512195\n",
      "Iteration:  80\n",
      "[7 6 8 ... 6 3 0] [7 6 3 ... 6 7 0]\n",
      "0.5560975609756098\n",
      "Iteration:  90\n",
      "[7 6 9 ... 6 3 0] [7 6 3 ... 6 7 0]\n",
      "0.5849268292682926\n",
      "Iteration:  100\n",
      "[7 6 9 ... 6 3 0] [7 6 3 ... 6 7 0]\n",
      "0.6072926829268293\n",
      "Iteration:  110\n",
      "[7 6 9 ... 6 3 0] [7 6 3 ... 6 7 0]\n",
      "0.6259268292682927\n",
      "Iteration:  120\n",
      "[7 6 9 ... 6 3 0] [7 6 3 ... 6 7 0]\n",
      "0.6422682926829268\n",
      "Iteration:  130\n",
      "[7 6 9 ... 6 3 0] [7 6 3 ... 6 7 0]\n",
      "0.6575853658536586\n",
      "Iteration:  140\n",
      "[7 6 9 ... 6 3 0] [7 6 3 ... 6 7 0]\n",
      "0.6716829268292683\n",
      "Iteration:  150\n",
      "[7 6 9 ... 6 3 0] [7 6 3 ... 6 7 0]\n",
      "0.683609756097561\n",
      "Iteration:  160\n",
      "[7 6 9 ... 6 3 0] [7 6 3 ... 6 7 0]\n",
      "0.6957317073170731\n",
      "Iteration:  170\n",
      "[7 6 5 ... 6 7 0] [7 6 3 ... 6 7 0]\n",
      "0.7063658536585365\n",
      "Iteration:  180\n",
      "[7 6 5 ... 6 7 0] [7 6 3 ... 6 7 0]\n",
      "0.7177317073170731\n",
      "Iteration:  190\n",
      "[7 6 5 ... 6 7 0] [7 6 3 ... 6 7 0]\n",
      "0.7262926829268292\n",
      "Iteration:  200\n",
      "[7 6 3 ... 6 7 0] [7 6 3 ... 6 7 0]\n",
      "0.7348780487804878\n",
      "Iteration:  210\n",
      "[7 6 3 ... 6 7 0] [7 6 3 ... 6 7 0]\n",
      "0.741780487804878\n",
      "Iteration:  220\n",
      "[7 6 3 ... 6 7 0] [7 6 3 ... 6 7 0]\n",
      "0.7489024390243902\n",
      "Iteration:  230\n",
      "[7 6 3 ... 6 7 0] [7 6 3 ... 6 7 0]\n",
      "0.7552682926829268\n",
      "Iteration:  240\n",
      "[7 6 3 ... 6 7 0] [7 6 3 ... 6 7 0]\n",
      "0.7613414634146342\n",
      "Iteration:  250\n",
      "[7 6 3 ... 6 7 0] [7 6 3 ... 6 7 0]\n",
      "0.7670487804878049\n",
      "Iteration:  260\n",
      "[7 6 3 ... 6 7 0] [7 6 3 ... 6 7 0]\n",
      "0.7723170731707317\n",
      "Iteration:  270\n",
      "[7 6 3 ... 6 7 0] [7 6 3 ... 6 7 0]\n",
      "0.7772439024390244\n",
      "Iteration:  280\n",
      "[7 6 3 ... 6 7 0] [7 6 3 ... 6 7 0]\n",
      "0.7820731707317073\n",
      "Iteration:  290\n",
      "[7 6 3 ... 6 7 0] [7 6 3 ... 6 7 0]\n",
      "0.7866829268292683\n",
      "Iteration:  300\n",
      "[7 6 3 ... 6 7 0] [7 6 3 ... 6 7 0]\n",
      "0.7904634146341464\n",
      "Iteration:  310\n",
      "[7 6 3 ... 6 7 0] [7 6 3 ... 6 7 0]\n",
      "0.7934878048780488\n",
      "Iteration:  320\n",
      "[7 6 3 ... 6 7 0] [7 6 3 ... 6 7 0]\n",
      "0.7971219512195122\n",
      "Iteration:  330\n",
      "[7 6 3 ... 6 7 0] [7 6 3 ... 6 7 0]\n",
      "0.8010731707317074\n",
      "Iteration:  340\n",
      "[7 6 3 ... 6 7 0] [7 6 3 ... 6 7 0]\n",
      "0.8043414634146342\n",
      "Iteration:  350\n",
      "[7 6 3 ... 6 7 0] [7 6 3 ... 6 7 0]\n",
      "0.8073414634146342\n",
      "Iteration:  360\n",
      "[7 6 3 ... 6 7 0] [7 6 3 ... 6 7 0]\n",
      "0.8103902439024391\n",
      "Iteration:  370\n",
      "[7 6 3 ... 6 7 0] [7 6 3 ... 6 7 0]\n",
      "0.813390243902439\n",
      "Iteration:  380\n",
      "[7 6 3 ... 6 7 0] [7 6 3 ... 6 7 0]\n",
      "0.8162926829268292\n",
      "Iteration:  390\n",
      "[7 6 3 ... 6 7 0] [7 6 3 ... 6 7 0]\n",
      "0.8191463414634146\n",
      "Iteration:  400\n",
      "[7 6 3 ... 6 7 0] [7 6 3 ... 6 7 0]\n",
      "0.8218048780487804\n",
      "Iteration:  410\n",
      "[7 6 3 ... 6 7 0] [7 6 3 ... 6 7 0]\n",
      "0.8239268292682926\n",
      "Iteration:  420\n",
      "[7 6 3 ... 6 7 0] [7 6 3 ... 6 7 0]\n",
      "0.8263658536585365\n",
      "Iteration:  430\n",
      "[7 6 3 ... 6 7 0] [7 6 3 ... 6 7 0]\n",
      "0.8283414634146341\n",
      "Iteration:  440\n",
      "[7 6 3 ... 6 7 0] [7 6 3 ... 6 7 0]\n",
      "0.8303658536585365\n",
      "Iteration:  450\n",
      "[7 6 3 ... 6 7 0] [7 6 3 ... 6 7 0]\n",
      "0.8324390243902439\n",
      "Iteration:  460\n",
      "[7 6 3 ... 6 7 0] [7 6 3 ... 6 7 0]\n",
      "0.8344390243902439\n",
      "Iteration:  470\n",
      "[7 6 3 ... 6 7 0] [7 6 3 ... 6 7 0]\n",
      "0.8363414634146341\n",
      "Iteration:  480\n",
      "[7 6 3 ... 6 7 0] [7 6 3 ... 6 7 0]\n",
      "0.8381951219512195\n",
      "Iteration:  490\n",
      "[7 6 3 ... 6 7 0] [7 6 3 ... 6 7 0]\n",
      "0.8399756097560975\n"
     ]
    }
   ],
   "source": [
    "W1, b1, W2, b2 = gradient_descent(X_train, Y_train, 0.10, 500)"
   ]
  },
  {
   "cell_type": "code",
   "execution_count": 65,
   "metadata": {},
   "outputs": [],
   "source": [
    "def make_predictions(X, W1, b1, W2, b2):\n",
    "    _, _, _, A2 = forward_prop(W1, b1, W2, b2, X)\n",
    "    predictions = get_predictions(A2)\n",
    "    return predictions\n",
    "\n",
    "def test_prediction(index, W1, b1, W2, b2):\n",
    "    current_image = X_train[:, index, None]\n",
    "    prediction = make_predictions(X_train[:, index, None], W1, b1, W2, b2)\n",
    "    label = Y_train[index]\n",
    "    print(\"Prediction: \", prediction)\n",
    "    print(\"Label: \", label)\n",
    "    \n",
    "    current_image = current_image.reshape((28, 28)) * 255\n",
    "    plt.gray()\n",
    "    plt.imshow(current_image, interpolation='nearest')\n",
    "    plt.show()"
   ]
  },
  {
   "cell_type": "code",
   "execution_count": 66,
   "metadata": {},
   "outputs": [
    {
     "name": "stdout",
     "output_type": "stream",
     "text": [
      "Prediction:  [7]\n",
      "Label:  7\n"
     ]
    },
    {
     "data": {
      "image/png": "[encoded data removed]",
      "text/plain": [
       "<Figure size 640x480 with 1 Axes>"
      ]
     },
     "metadata": {},
     "output_type": "display_data"
    },
    {
     "name": "stdout",
     "output_type": "stream",
     "text": [
      "Prediction:  [6]\n",
      "Label:  6\n"
     ]
    },
    {
     "data": {
      "image/png": "[encoded data removed]",
      "text/plain": [
       "<Figure size 640x480 with 1 Axes>"
      ]
     },
     "metadata": {},
     "output_type": "display_data"
    },
    {
     "name": "stdout",
     "output_type": "stream",
     "text": [
      "Prediction:  [3]\n",
      "Label:  3\n"
     ]
    },
    {
     "data": {
      "image/png": "[encoded data removed]",
      "text/plain": [
       "<Figure size 640x480 with 1 Axes>"
      ]
     },
     "metadata": {},
     "output_type": "display_data"
    },
    {
     "name": "stdout",
     "output_type": "stream",
     "text": [
      "Prediction:  [1]\n",
      "Label:  1\n"
     ]
    },
    {
     "data": {
      "image/png": "[encoded data removed]",
      "text/plain": [
       "<Figure size 640x480 with 1 Axes>"
      ]
     },
     "metadata": {},
     "output_type": "display_data"
    }
   ],
   "source": [
    "test_prediction(0, W1, b1, W2, b2)\n",
    "test_prediction(1, W1, b1, W2, b2)\n",
    "test_prediction(2, W1, b1, W2, b2)\n",
    "test_prediction(3, W1, b1, W2, b2)"
   ]
  },
  {
   "cell_type": "code",
   "execution_count": 67,
   "metadata": {},
   "outputs": [
    {
     "name": "stdout",
     "output_type": "stream",
     "text": [
      "[2 6 8 9 5 3 8 1 7 4 7 5 9 3 8 2 9 2 5 5 7 4 4 2 2 7 5 3 2 1 0 8 7 7 9 4 5\n",
      " 3 5 6 9 7 7 1 4 1 8 1 5 0 9 4 2 1 0 4 8 7 2 4 7 6 9 7 9 1 0 4 3 6 2 3 6 2\n",
      " 7 1 3 8 1 9 5 0 7 4 4 2 7 1 5 7 9 0 9 6 6 5 5 0 2 1 2 2 2 2 9 5 1 6 7 3 5\n",
      " 6 5 5 0 9 0 3 9 0 4 8 6 6 7 6 0 1 0 9 4 1 0 0 3 7 9 3 9 0 5 9 0 7 3 5 6 1\n",
      " 2 1 9 3 1 1 3 2 1 9 0 4 4 5 9 5 6 5 6 6 7 1 8 6 8 5 7 5 7 2 2 7 1 7 5 7 1\n",
      " 4 7 3 2 5 9 4 0 8 1 7 3 0 5 6 4 6 6 1 4 3 6 2 1 2 3 9 7 7 3 9 3 4 2 0 2 8\n",
      " 8 6 2 2 8 9 2 3 7 0 2 0 3 2 1 2 1 7 7 6 4 7 9 5 9 3 1 7 5 1 4 7 9 7 0 7 6\n",
      " 4 4 8 3 2 4 4 9 2 8 0 4 2 1 1 9 9 2 5 2 1 4 3 0 4 0 6 4 0 6 7 3 1 2 1 0 1\n",
      " 6 6 9 8 4 9 7 8 2 6 6 5 9 8 4 3 4 4 8 1 4 1 5 6 7 3 1 7 0 4 0 4 0 1 2 5 5\n",
      " 4 3 1 3 3 3 1 3 3 3 3 8 9 1 5 2 9 4 2 1 3 4 9 6 1 9 9 9 2 5 6 4 3 7 9 7 1\n",
      " 7 9 1 3 9 9 2 9 0 6 7 1 1 0 8 6 2 8 5 8 4 7 2 3 9 0 0 3 6 8 3 2 0 6 2 2 2\n",
      " 9 7 0 0 0 1 9 5 2 8 0 7 6 0 4 7 1 4 8 1 1 7 7 3 6 0 2 0 6 9 7 7 6 2 5 1 3\n",
      " 5 3 6 9 8 4 7 2 3 8 0 6 3 1 0 9 0 7 7 6 9 0 5 1 6 7 7 3 3 1 6 8 5 4 5 9 7\n",
      " 1 4 4 0 8 7 1 3 8 3 4 0 0 5 7 7 1 6 1 6 6 1 6 1 2 5 2 7 2 7 6 7 2 0 2 6 4\n",
      " 4 5 4 2 2 7 7 8 2 4 4 2 1 6 3 1 0 5 9 4 9 9 3 9 3 9 0 7 0 7 5 1 1 1 5 5 6\n",
      " 1 9 7 9 0 0 5 9 6 4 6 0 1 8 1 7 2 7 8 1 6 3 2 5 9 4 1 1 6 8 9 1 1 6 9 8 2\n",
      " 9 0 7 4 1 5 8 2 5 8 5 8 1 6 7 3 9 5 6 3 7 8 5 3 7 1 6 4 3 0 3 9 4 1 0 8 0\n",
      " 2 0 2 8 6 3 7 5 2 8 1 4 3 6 3 3 2 2 2 5 3 7 9 7 8 9 6 3 3 3 3 3 1 6 2 2 6\n",
      " 0 5 0 2 9 1 3 5 2 8 5 4 0 8 8 3 2 4 9 0 0 2 5 3 1 9 2 9 7 9 2 3 5 6 4 4 6\n",
      " 3 0 6 1 6 9 1 5 9 8 2 6 5 3 3 8 2 2 7 4 5 8 1 1 2 8 4 5 7 8 8 4 0 6 9 8 3\n",
      " 9 2 8 9 2 1 3 1 5 0 4 3 7 6 3 4 9 0 5 3 4 4 2 3 9 0 2 0 6 4 0 0 9 3 9 5 3\n",
      " 2 0 6 8 1 3 8 4 8 9 1 2 4 2 7 6 0 0 6 3 6 0 2 8 4 9 8 2 1 6 9 5 5 4 7 4 0\n",
      " 4 8 9 2 9 9 6 0 7 9 1 1 1 1 3 0 7 2 5 1 0 7 6 9 9 7 1 7 8 4 6 1 3 8 7 1 4\n",
      " 7 8 6 5 9 9 0 1 4 5 7 9 9 0 2 7 0 7 9 6 2 4 0 1 6 3 6 0 6 4 0 3 5 0 8 3 7\n",
      " 7 5 6 8 9 6 1 6 0 6 4 4 8 6 1 3 2 3 4 6 2 6 1 7 3 8 6 1 3 9 1 1 6 7 4 3 8\n",
      " 2 0 4 8 1 1 2 3 4 3 3 3 2 3 7 1 3 8 5 6 7 5 8 1 3 9 3 0 5 7 8 4 7 1 4 9 0\n",
      " 3 0 3 1 9 3 2 7 0 1 0 6 9 9 7 3 0 5 7 1 6 3 6 5 3 7 1 3 1 8 7 3 3 4 9 0 9\n",
      " 6] [2 6 8 9 5 3 8 1 7 4 7 6 9 3 8 2 9 2 8 5 7 4 4 2 2 7 5 3 2 1 0 8 7 9 9 4 5\n",
      " 1 5 0 9 7 7 1 4 1 8 1 5 0 9 4 2 6 0 4 9 7 2 9 7 6 7 7 4 1 0 9 3 6 3 3 6 2\n",
      " 7 1 3 9 1 9 2 0 7 4 4 2 7 1 6 7 7 0 9 6 6 5 5 3 2 1 2 2 2 4 4 3 1 6 7 3 5\n",
      " 6 2 5 0 9 0 3 9 0 4 8 2 6 7 6 0 1 0 9 4 1 0 0 3 7 9 3 7 0 5 9 0 7 3 3 2 1\n",
      " 2 1 5 5 1 1 3 2 1 9 0 4 4 5 9 5 6 5 6 6 7 1 8 6 8 6 7 5 7 5 6 7 1 7 5 7 2\n",
      " 4 7 3 2 6 9 4 5 8 3 7 3 0 5 6 9 6 2 1 4 3 6 2 1 2 7 9 7 7 3 9 3 4 2 0 2 3\n",
      " 9 6 2 2 8 9 9 3 5 0 2 5 3 2 1 2 1 7 7 6 4 7 9 5 7 3 1 7 5 1 4 7 9 7 0 7 6\n",
      " 4 4 8 3 2 4 4 9 2 8 0 4 2 1 1 7 9 2 5 2 1 4 3 0 9 0 6 7 0 6 7 3 1 1 1 0 8\n",
      " 6 6 9 8 4 9 7 8 3 6 6 5 9 8 4 3 4 4 8 1 4 1 5 6 7 3 1 7 5 4 0 4 5 1 2 5 5\n",
      " 4 3 1 3 3 3 1 3 3 3 3 8 9 1 5 2 9 4 2 1 3 9 9 6 1 9 9 9 2 5 2 4 3 7 9 7 1\n",
      " 7 9 1 3 8 9 2 9 0 6 7 1 1 0 8 6 2 8 8 8 4 7 4 3 9 0 0 3 6 8 3 7 0 6 2 2 2\n",
      " 9 7 0 0 0 1 9 5 3 2 0 7 6 0 4 7 1 4 7 1 1 7 7 3 6 0 2 9 6 9 7 7 6 3 5 1 8\n",
      " 2 3 6 4 8 4 7 3 3 8 0 6 3 1 0 9 0 7 7 6 9 0 5 1 6 7 7 3 3 1 6 5 5 4 5 9 7\n",
      " 1 8 4 0 8 7 1 3 8 2 4 0 0 1 7 7 1 6 5 6 6 2 6 1 2 5 2 7 2 2 6 7 2 5 2 6 4\n",
      " 4 5 4 2 2 7 7 5 2 4 4 2 1 6 2 1 5 5 9 4 7 4 3 9 3 9 0 7 0 7 5 1 1 1 5 5 6\n",
      " 1 9 7 4 0 0 5 8 6 4 6 0 1 8 1 7 2 7 8 1 0 3 2 5 9 4 9 2 6 8 9 1 1 6 4 5 2\n",
      " 9 0 7 9 1 5 8 2 5 8 3 8 1 6 7 3 9 5 6 3 7 8 3 3 4 1 6 4 3 0 7 9 9 1 0 8 2\n",
      " 2 0 2 8 6 3 7 5 2 9 1 4 3 6 3 5 2 2 2 5 3 7 9 7 8 9 6 3 2 3 3 3 1 6 2 3 6\n",
      " 0 5 0 2 3 1 3 3 2 8 8 4 0 8 5 7 2 4 9 0 0 2 5 3 1 9 2 9 7 4 2 3 3 6 9 4 6\n",
      " 3 0 6 1 6 9 1 0 9 5 7 6 5 5 3 8 2 2 7 4 5 2 1 1 8 8 4 5 7 8 8 9 0 6 9 8 3\n",
      " 9 2 8 8 2 1 7 1 8 0 9 3 7 6 3 9 9 0 5 3 9 4 2 3 9 0 2 0 6 4 0 9 9 5 2 5 3\n",
      " 2 0 6 8 1 3 5 4 8 9 1 3 4 2 7 6 0 0 6 3 6 0 2 8 4 9 8 2 5 6 4 8 5 4 4 4 0\n",
      " 4 8 9 2 9 4 6 0 7 9 1 1 1 1 3 0 7 3 5 1 0 2 6 9 2 7 1 5 8 4 2 1 7 3 7 1 4\n",
      " 7 2 6 5 9 9 0 1 4 5 7 7 9 0 2 8 0 7 9 6 2 4 0 1 6 3 6 0 6 4 0 3 0 0 8 3 7\n",
      " 9 5 6 8 9 6 1 6 0 6 4 4 8 6 1 5 2 3 4 6 2 6 1 7 8 2 6 1 3 4 1 8 6 7 4 3 0\n",
      " 2 0 9 8 1 1 2 5 4 5 3 3 4 3 7 1 3 8 1 6 7 5 8 1 3 9 8 0 5 7 1 8 7 1 6 7 0\n",
      " 3 0 3 1 9 3 2 7 0 1 0 6 9 9 7 3 0 5 4 1 5 3 6 1 3 7 3 2 1 8 7 3 3 4 9 0 9\n",
      " 5]\n"
     ]
    },
    {
     "data": {
      "text/plain": [
       "0.838"
      ]
     },
     "execution_count": 67,
     "metadata": {},
     "output_type": "execute_result"
    }
   ],
   "source": [
    "dev_predictions = make_predictions(X_dev, W1, b1, W2, b2)\n",
    "get_accuracy(dev_predictions, Y_dev)"
   ]
  }
 ],
 "metadata": {
  "kernelspec": {
   "display_name": "mlenv",
   "language": "python",
   "name": "python3"
  },
  "language_info": {
   "codemirror_mode": {
    "name": "ipython",
    "version": 3
   },
   "file_extension": ".py",
   "mimetype": "text/x-python",
   "name": "python",
   "nbconvert_exporter": "python",
   "pygments_lexer": "ipython3",
   "version": "3.11.0"
  }
 },
 "nbformat": 4,
 "nbformat_minor": 2
}
